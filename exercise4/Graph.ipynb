{
 "cells": [
  {
   "cell_type": "code",
   "execution_count": 1,
   "metadata": {
    "collapsed": true
   },
   "outputs": [],
   "source": [
    "import tensorflow as tf\n",
    "import numpy as np\n"
   ]
  },
  {
   "cell_type": "code",
   "execution_count": 2,
   "metadata": {
    "collapsed": true
   },
   "outputs": [],
   "source": [
    "sess = tf.Session()"
   ]
  },
  {
   "cell_type": "code",
   "execution_count": 3,
   "metadata": {},
   "outputs": [],
   "source": [
    "# Builds The Network\n",
    "def buildNetwork(inputs, batch_size, NUM_CLASSES=2,keep_prob=1.0):\n",
    "    def conv_layer(x, num_channels_out, spatial_stride=1,filterSize=3,name=None):\n",
    "        \"\"\" Layer for 3x3 convolutions.\n",
    "\n",
    "        Args:\n",
    "          x: A 4-D float32 Tensor with shape [num_images, height, width, num_channels].\n",
    "          num_channels_out: An integer. The number of output channels we'll compute\n",
    "            (with one convolutional filter per output channel).\n",
    "          spatial_stride: A positive integer. If this is 1, we obtain a typical\n",
    "            convolution; if 2, we'll have one output pixel for every *two* input\n",
    "            pixels; and so on.\n",
    "\n",
    "        Returns:\n",
    "          A 4-D float32 Tensor with shape [num_images, new_height, new_width, num_channels_out].\n",
    "        \"\"\"\n",
    "        num_channels_in = x.get_shape().as_list()[-1]\n",
    "        conv_strides = [1, spatial_stride, spatial_stride, 1]\n",
    "        W_shape = [filterSize, filterSize, num_channels_in, num_channels_out]\n",
    "        W = tf.Variable(tf.truncated_normal(\n",
    "            W_shape,\n",
    "            mean=0.0,\n",
    "            stddev=5e-2,\n",
    "            dtype=tf.float32,\n",
    "            seed=None,\n",
    "            name=None\n",
    "        ))\n",
    "        b = tf.Variable(tf.zeros([num_channels_out]))\n",
    "        conv = tf.nn.conv2d(x, W, conv_strides, 'SAME',name=name)\n",
    "        conv_with_bias = conv + b\n",
    "        return conv_with_bias\n",
    "\n",
    "    def linear_layer(x, num_outputs,name=None):\n",
    "        \"\"\" A simple linear layer.\n",
    "\n",
    "        Args:\n",
    "          x: A 2-D float32 Tensor with shape [num_images, num_inputs]. (Each\n",
    "            image is represented by a vector with dimensionality num_inputs.)\n",
    "          num_outputs: An integer.\n",
    "\n",
    "        Returns:\n",
    "          A 2-D float32 Tensor with shape [num_images, num_outputs].\n",
    "        \"\"\"\n",
    "        num_inputs = x.get_shape().as_list()[-1]\n",
    "        W_shape = [num_inputs, num_outputs]\n",
    "        W = tf.Variable(tf.truncated_normal(\n",
    "            W_shape,\n",
    "            mean=0.0,\n",
    "            stddev=5e-2,\n",
    "            dtype=tf.float32,\n",
    "            seed=None,\n",
    "            name=None\n",
    "        ))\n",
    "        b = tf.Variable(tf.zeros([num_outputs]))\n",
    "        ret = tf.nn.xw_plus_b(x, W, b,name=name)\n",
    "        return ret\n",
    "        \n",
    "    x = conv_layer(inputs, num_channels_out=32,filterSize=5,name=\"Conv1_5x5\")\n",
    "    x = tf.nn.relu(x,name=\"relu1\")\n",
    "    x = tf.nn.max_pool(x, ksize=[1, 2, 2, 1], strides=[1, 2, 2, 1],\n",
    "                     padding='SAME', name='pool1')\n",
    "  #  x = tf.nn.lrn(x, 4, bias=1.0, alpha=0.001 / 9.0, beta=0.75,\n",
    "   #             name='norm1')\n",
    "#    x= tf.nn.dropout(x,keep_prob)\n",
    "\n",
    "    x = conv_layer(x, num_channels_out=64, spatial_stride=1,filterSize=3,name=\"Conv2_3x3\")\n",
    "    x = tf.nn.relu(x,name=\"relu2\")\n",
    "   # x = tf.nn.lrn(x, 4, bias=1.0, alpha=0.001 / 9.0, beta=0.75,\n",
    "    #                name='norm2')\n",
    "    x = tf.nn.max_pool(x, ksize=[1, 2, 2, 1],\n",
    "                         strides=[1, 2, 2, 1], padding='SAME', name='pool2')\n",
    "\n",
    "    #x= tf.nn.dropout(x,keep_prob)\n",
    "    x = conv_layer(x, num_channels_out=128, spatial_stride=1,filterSize=3,name=\"Conv3_3x3\")\n",
    "    x = tf.nn.relu(x,name=\"relu3\")\n",
    "\n",
    "    x = conv_layer(x, num_channels_out=256, spatial_stride=1,filterSize=3,name=\"Conv4_3x3\")\n",
    "    x = tf.nn.relu(x,name=\"relu4\")\n",
    "   # x = tf.nn.lrn(x, 4, bias=1.0, alpha=0.001 / 9.0, beta=0.75,\n",
    "    #                name='norm2')\n",
    "    x = tf.nn.max_pool(x, ksize=[1, 2, 2, 1],\n",
    "                         strides=[1, 2, 2, 1], padding='SAME', name='pool3')\n",
    " #   x= tf.nn.dropout(x,keep_prob)\n",
    "    x = tf.reshape(x, [batch_size, -1])\n",
    "    x = tf.nn.relu(x,name=\"relu5\")\n",
    "    x = linear_layer(x, num_outputs=1024,name=\"FC1_1024\")\n",
    "    x = tf.nn.relu(x,name=\"relu6\")\n",
    "    x= tf.nn.dropout(x,keep_prob,name=\"dropout_0.5\")\n",
    "    x = linear_layer(x, num_outputs=2048,name=\"FC2_2048\")\n",
    "    #x = tf.nn.relu(x)\n",
    "    x = linear_layer(x, num_outputs=1024,name=\"FC3_1024\")\n",
    "    #x = tf.nn.relu(x)\n",
    "  #  x= tf.nn.dropout(x,keep_prob)\n",
    "\n",
    "    logits = linear_layer(x, num_outputs=NUM_CLASSES,name=\"output\")\n",
    "\n",
    "    return logits\n",
    "\n"
   ]
  },
  {
   "cell_type": "code",
   "execution_count": 4,
   "metadata": {
    "collapsed": true
   },
   "outputs": [],
   "source": [
    "batch_size=100\n",
    "WIDTH = 64\n",
    "HEIGHT = 64\n",
    "CHANNELS = 3\n",
    "OUTPUT=2"
   ]
  },
  {
   "cell_type": "code",
   "execution_count": 5,
   "metadata": {
    "collapsed": true
   },
   "outputs": [],
   "source": [
    "inputs = tf.placeholder(tf.float32,name='input',shape=[batch_size,WIDTH,HEIGHT,CHANNELS])\n",
    "labels = tf.placeholder(tf.int32,name='target',shape=[batch_size,OUTPUT])\n",
    "keep_prob = tf.placeholder(tf.float32) #for dropout\n",
    "logits = buildNetwork(inputs, batch_size,keep_prob=keep_prob)\n",
    "model = tf.global_variables_initializer()\n",
    "sess.run(model)"
   ]
  },
  {
   "cell_type": "code",
   "execution_count": 6,
   "metadata": {
    "collapsed": true
   },
   "outputs": [],
   "source": [
    "writer = tf.summary.FileWriter('log')\n"
   ]
  },
  {
   "cell_type": "code",
   "execution_count": 7,
   "metadata": {},
   "outputs": [],
   "source": [
    "writer.add_graph(sess.graph)"
   ]
  },
  {
   "cell_type": "code",
   "execution_count": null,
   "metadata": {
    "collapsed": true
   },
   "outputs": [],
   "source": []
  }
 ],
 "metadata": {
  "kernelspec": {
   "display_name": "Python 3",
   "language": "python",
   "name": "python3"
  },
  "language_info": {
   "codemirror_mode": {
    "name": "ipython",
    "version": 3
   },
   "file_extension": ".py",
   "mimetype": "text/x-python",
   "name": "python",
   "nbconvert_exporter": "python",
   "pygments_lexer": "ipython3",
   "version": "3.5.0"
  }
 },
 "nbformat": 4,
 "nbformat_minor": 2
}
