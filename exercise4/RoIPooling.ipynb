{
 "cells": [
  {
   "cell_type": "code",
   "execution_count": 1,
   "metadata": {
    "collapsed": true
   },
   "outputs": [],
   "source": [
    "import numpy as np\n",
    "# import matplot for visualization\n",
    "import matplotlib.pyplot as plt\n",
    "#to see the plots inside of the notebook\n",
    "%matplotlib inline\n",
    "# import tensorflow and required layers\n",
    "# note that tensorflow.contrib.layers was previously migrated from TF Slim.\n",
    "import tensorflow as tf\n",
    "from tensorflow.contrib.layers import conv2d, fully_connected, max_pool2d, repeat\n",
    "from scipy import misc\n",
    "slim = tf.contrib.slim\n",
    "\n",
    "\n",
    "# create a session\n",
    "session = tf.Session()\n",
    "\n",
    "\n",
    "rois=[]\n",
    "with open('data/regions.txt') as f:\n",
    "    rois =[x.strip() for x in  f.readlines()]\n",
    "    rois.pop(0)#no need for first line\n",
    "\n",
    "numberOfInputImages = 1\n",
    "width=600\n",
    "height=600\n",
    "numberOFChannels=3\n",
    "\n",
    "roiOutputWidth=7\n",
    "roiOutputHeight=7\n",
    "\n",
    "inputs = tf.placeholder(dtype=tf.float32,shape=(numberOfInputImages,width,height,numberOFChannels))\n",
    "#with tf.variable_scope('vgg_16', inputs, [1000]) as sc:\n",
    "#        with slim.arg_scope([conv2d, fully_connected, max_pool2d]):\n",
    "net = repeat(inputs, 2, slim.conv2d, 64, [3, 3], scope='conv1')\n",
    "net = max_pool2d(net, [2, 2], scope='pool1')\n",
    "net = repeat(net, 2, slim.conv2d, 128, [3, 3], scope='conv2')\n",
    "net = max_pool2d(net, [2, 2], scope='pool2')\n",
    "net = repeat(net, 3, slim.conv2d, 256, [3, 3], scope='conv3')\n",
    "net = max_pool2d(net, [2, 2], scope='pool3')\n",
    "net = repeat(net, 3, slim.conv2d, 512, [3, 3], scope='conv4')\n",
    "net = max_pool2d(net, [2, 2], scope='pool4')\n",
    "net = repeat(net, 3, slim.conv2d, 512, [3, 3], scope='conv5')\n"
   ]
  },
  {
   "cell_type": "code",
   "execution_count": 2,
   "metadata": {},
   "outputs": [
    {
     "name": "stdout",
     "output_type": "stream",
     "text": [
      "input\n",
      "(1, 37, 37, 512)\n",
      "kernel\n",
      "[2, 4]\n",
      "output from ROI\n",
      "(1, 9, 8, 512)\n",
      "after slicing\n",
      "(1, 7, 7, 512)\n",
      "input\n",
      "(1, 37, 37, 512)\n",
      "kernel\n",
      "[1, 2]\n",
      "output from ROI\n",
      "(1, 7, 7, 512)\n",
      "after slicing\n",
      "(1, 7, 7, 512)\n",
      "input\n",
      "(1, 37, 37, 512)\n",
      "kernel\n",
      "[1, 1]\n",
      "output from ROI\n",
      "(1, 9, 11, 512)\n",
      "after slicing\n",
      "(1, 7, 7, 512)\n",
      "output\n",
      "(1, 3, 7, 7, 512)\n"
     ]
    }
   ],
   "source": [
    "slices = []\n",
    "for line in rois:\n",
    "    #line=rois[2]\n",
    "    l=line.split()\n",
    "    label=l[0]\n",
    "    x1=int(l[1])\n",
    "    x2=int(l[3])\n",
    "    y1= int(l[2])\n",
    "    y2=int(l[4])\n",
    "    #print(type(net.shape[1]))\n",
    "    #print('shape:')\n",
    "    #print((int(net.shape[1])))\n",
    "    xBegin=int(x1*int(net.shape[1])/int(inputs.shape[1]))\n",
    "    yBegin = int(y1*int(net.shape[1])/int(inputs.shape[1]))\n",
    "    xEnd=int(x2*int(net.shape[1])/int(inputs.shape[1]))\n",
    "    yEnd =int( y2*int(net.shape[1])/int(inputs.shape[1]))\n",
    "    xDiff=(xEnd-xBegin)\n",
    "    yDiff=(yEnd-yBegin)\n",
    "    sl = tf.slice(\n",
    "            net,\n",
    "            [0,xBegin,yBegin,0],\n",
    "            [int(net.shape[0]),xDiff,yDiff,int(net.shape[3])]\n",
    "        )\n",
    "    print('input')\n",
    "    print(net.shape)\n",
    "    print('kernel')\n",
    "    roiKernel=[int(xDiff/roiOutputWidth), int(yDiff/roiOutputHeight)]\n",
    "    print(roiKernel)\n",
    "    sl = max_pool2d(sl, roiKernel,roiKernel, scope='ROIpool'+label)\n",
    "    print('output from ROI')\n",
    "    print(sl.shape)\n",
    "    #net = max_pool2d(net, [2, 2], scope='pool5')\n",
    "    # Use conv2d instead of fully_connected layers.\n",
    "    sl = tf.slice(\n",
    "            net,\n",
    "            [0,0,0,0],\n",
    "            [int(net.shape[0]),roiOutputWidth,roiOutputHeight,int(net.shape[3])]\n",
    "        )\n",
    "    print('after slicing')\n",
    "    print(sl.shape)\n",
    "    slices.append(sl)\n",
    "net = tf.stack(slices,axis=1)\n",
    "#net = conv2d(tf.stack(slices,axis=0), 4096, [7, 7], padding='VALID', scope='fc6')\n",
    "#net = conv2d(net, 4096, [1, 1], scope='fc7')\n",
    "#net = conv2d(net, 1000, [1, 1], activation_fn=None, normalizer_fn=None, scope='fc8')\n",
    "print('output')\n",
    "print(net.shape)"
   ]
  },
  {
   "cell_type": "code",
   "execution_count": 3,
   "metadata": {},
   "outputs": [
    {
     "name": "stdout",
     "output_type": "stream",
     "text": [
      "(1, 3, 7, 7, 512)\n"
     ]
    }
   ],
   "source": [
    "init_op = tf.global_variables_initializer()\n",
    "session.run(init_op)\n",
    "img = misc.imresize(misc.imread('images/people.jpg'),size=[600,600]).reshape([1,600,600,3])\n",
    "RoisOutput = session.run([net],feed_dict={inputs:img})\n",
    "print(RoisOutput[0].shape)\n",
    "\n",
    "#(1, 3, 7, 7, 512) , 1 image, 3 rois, 7x7, 512 channels"
   ]
  }
 ],
 "metadata": {
  "kernelspec": {
   "display_name": "Python 3",
   "language": "python",
   "name": "python3"
  },
  "language_info": {
   "codemirror_mode": {
    "name": "ipython",
    "version": 3
   },
   "file_extension": ".py",
   "mimetype": "text/x-python",
   "name": "python",
   "nbconvert_exporter": "python",
   "pygments_lexer": "ipython3",
   "version": "3.5.0"
  }
 },
 "nbformat": 4,
 "nbformat_minor": 2
}
