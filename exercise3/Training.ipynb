{
 "cells": [
  {
   "cell_type": "code",
   "execution_count": 1,
   "metadata": {
    "collapsed": true
   },
   "outputs": [],
   "source": [
    "import numpy as np\n",
    "import tensorflow as tf\n",
    "%matplotlib inline\n",
    "import matplotlib.pyplot as plt\n",
    "import urllib.request\n",
    "import random\n",
    "import os\n",
    "import urllib\n",
    "import tarfile\n",
    "import pickle\n",
    "import utils\n",
    "from utils import buildNetwork, load_cifar,download_cifar\n",
    "from scipy.ndimage.filters import gaussian_filter\n",
    "\n",
    "# URL for the data-set on the internet.\n",
    "data_path = \"data/CIFAR-10/\"\n",
    "data_url = \"https://www.cs.toronto.edu/~kriz/cifar-10-python.tar.gz\""
   ]
  },
  {
   "cell_type": "code",
   "execution_count": 2,
   "metadata": {
    "collapsed": true
   },
   "outputs": [],
   "source": [
    "# Let's start a Session\n",
    "sess = tf.Session()"
   ]
  },
  {
   "cell_type": "markdown",
   "metadata": {},
   "source": [
    "## Download CIFAR-10 (only needs to be run once)"
   ]
  },
  {
   "cell_type": "code",
   "execution_count": 3,
   "metadata": {},
   "outputs": [
    {
     "name": "stdout",
     "output_type": "stream",
     "text": [
      "Downloading CIFAR10\n",
      "Download finished. Extracting files.\n",
      "Done.\n"
     ]
    }
   ],
   "source": [
    "download_cifar(data_path, data_url)"
   ]
  },
  {
   "cell_type": "markdown",
   "metadata": {},
   "source": [
    "## Loading CIFAR-10 into memory"
   ]
  },
  {
   "cell_type": "code",
   "execution_count": 3,
   "metadata": {
    "collapsed": true,
    "scrolled": true
   },
   "outputs": [],
   "source": [
    "train_samples, train_labels, val_samples, val_labels = load_cifar(data_path)"
   ]
  },
  {
   "cell_type": "code",
   "execution_count": 4,
   "metadata": {
    "collapsed": true
   },
   "outputs": [],
   "source": [
    "DATA_AUGMENTATION=False\n",
    "#set to true, enables a simple data augmentation procedure,\n",
    "#Apologies though, my resources are limited, couldn't train for val accuracy higher than 71%\n",
    "if DATA_AUGMENTATION:\n",
    "    augmentedSamples=[]\n",
    "    augmentedLabels=[]\n",
    "    for i in range(train_samples.shape[0]):\n",
    "        augmentedSamples.append(train_samples[i,:,:,:])\n",
    "        augmentedSamples.append(np.flipud(train_samples[i,:,:,:]))\n",
    "        augmentedSamples.append(np.fliplr(train_samples[i,:,:,:]))\n",
    "        augmentedSamples.append(np.fliplr(np.flipud(train_samples[i,:,:,:])))\n",
    "        augmentedSamples.append(gaussian_filter(train_samples[i,:,:,:], sigma=0.5))\n",
    "        augmentedLabels.append(train_labels[i])\n",
    "        augmentedLabels.append(train_labels[i])\n",
    "        augmentedLabels.append(train_labels[i])\n",
    "        augmentedLabels.append(train_labels[i])\n",
    "        augmentedLabels.append(train_labels[i])\n",
    "    \n",
    "    train_samples = np.asarray(augmentedSamples)\n",
    "    train_labels = np.asarray(augmentedLabels)\n"
   ]
  },
  {
   "cell_type": "markdown",
   "metadata": {},
   "source": [
    "## Task: Use matplotlib to plot 5 random *training* samples and print the corresponding class label"
   ]
  },
  {
   "cell_type": "code",
   "execution_count": 5,
   "metadata": {},
   "outputs": [
    {
     "data": {
      "image/png": "[encoded data removed]",
      "text/plain": [
       "<matplotlib.figure.Figure at 0x2540f4931d0>"
      ]
     },
     "metadata": {},
     "output_type": "display_data"
    },
    {
     "data": {
      "image/png": "[encoded data removed]",
      "text/plain": [
       "<matplotlib.figure.Figure at 0x25416068d30>"
      ]
     },
     "metadata": {},
     "output_type": "display_data"
    },
    {
     "data": {
      "image/png": "[encoded data removed]",
      "text/plain": [
       "<matplotlib.figure.Figure at 0x25418b00a20>"
      ]
     },
     "metadata": {},
     "output_type": "display_data"
    },
    {
     "data": {
      "image/png": "[encoded data removed]",
      "text/plain": [
       "<matplotlib.figure.Figure at 0x25418b69438>"
      ]
     },
     "metadata": {},
     "output_type": "display_data"
    },
    {
     "data": {
      "image/png": "[encoded data removed]",
      "text/plain": [
       "<matplotlib.figure.Figure at 0x25418bfb860>"
      ]
     },
     "metadata": {},
     "output_type": "display_data"
    }
   ],
   "source": [
    "label_to_name = ['airplane', 'automobile', 'bird', 'cat', 'deer' , 'dog', 'frog', 'horse', 'ship', 'truck']\n",
    "indeces = random.sample(range(0, train_samples.shape[0]), 5)\n",
    "# TODO plot 5 training samples\n",
    "for index in indeces:\n",
    "    plt.figure(figsize=(1,1))\n",
    "    plt.title(label_to_name[train_labels[index]])\n",
    "    plt.imshow(train_samples[index])\n",
    "\n",
    "\n"
   ]
  },
  {
   "cell_type": "markdown",
   "metadata": {},
   "source": [
    "## Building Tensorflow Graph"
   ]
  },
  {
   "cell_type": "code",
   "execution_count": 6,
   "metadata": {
    "collapsed": true
   },
   "outputs": [],
   "source": [
    "HEIGHT = 32\n",
    "WIDTH = 32\n",
    "CHANNELS = 3\n",
    "NUM_CLASSES = 10\n",
    "\n",
    "# You can also modify these hyper-parameters (batch_size, epochs)\n",
    "# e.g. Add more epochs, if not converged. Reduce batch_size if too big for your GPU memory\n",
    "batch_size = 100\n",
    "num_train_epochs = 30\n",
    "steps_per_epoch = int( train_samples.shape[0] / batch_size)"
   ]
  },
  {
   "cell_type": "code",
   "execution_count": 7,
   "metadata": {
    "collapsed": true
   },
   "outputs": [],
   "source": [
    "# TODO define placeholders for the inputs and their labels (hint: what is their type, shape?)\n",
    "\n",
    "inputs = tf.placeholder(tf.float32,name='input',shape=[batch_size,WIDTH,HEIGHT,CHANNELS])\n",
    "labels = tf.placeholder(tf.int32,name='output',shape=[batch_size])\n",
    "keep_prob = tf.placeholder(tf.float32) #for dropout\n",
    "logits = buildNetwork(inputs, batch_size,keep_prob=keep_prob)"
   ]
  },
  {
   "cell_type": "markdown",
   "metadata": {},
   "source": [
    "## Task: Build the Loss. Add weight regularization."
   ]
  },
  {
   "cell_type": "code",
   "execution_count": 8,
   "metadata": {
    "collapsed": true
   },
   "outputs": [],
   "source": [
    "# TODO add an appropriate cross entropy loss function\n",
    "loss = tf.nn.sparse_softmax_cross_entropy_with_logits(labels=labels,logits=logits,name='crossEntropy')\n",
    "\n",
    "# TODO use reduce_mean to combine the single loss values from all the different input samples\n",
    "meanLoss= tf.reduce_mean(loss)\n",
    "\n",
    "# TODO add L2 regularization\n",
    "alpha=0.01\n",
    "tvars =tf.trainable_variables()\n",
    "l2_reg = tf.reduce_sum([tf.nn.l2_loss(var) for var in tvars])\n",
    "loss = meanLoss+alpha*l2_reg\n",
    "# hint: use tf.trainable_variables() and tf.nn.l2_loss(var)\n"
   ]
  },
  {
   "cell_type": "code",
   "execution_count": 9,
   "metadata": {
    "collapsed": true
   },
   "outputs": [],
   "source": [
    "# Compute accuracy as an evaluation metric\n",
    "predictions = tf.to_int32(tf.argmax(logits, axis=1))\n",
    "correct_mask = tf.to_float(tf.equal(predictions, labels))\n",
    "accuracy = tf.reduce_mean(correct_mask)\n"
   ]
  },
  {
   "cell_type": "markdown",
   "metadata": {},
   "source": [
    "## Task: Define Learning Rate, Optimizer and Training Operation"
   ]
  },
  {
   "cell_type": "code",
   "execution_count": 10,
   "metadata": {
    "collapsed": true
   },
   "outputs": [],
   "source": [
    "# TODO define the learning rate\n",
    "learningRate = 0.001\n",
    "# TODO define the optimizer (experiment with different options)\n",
    "opt = tf.train.AdamOptimizer( learning_rate=learningRate,\n",
    "    beta1=0.9,\n",
    "    beta2=0.999,\n",
    "    epsilon=1e-08,\n",
    "    use_locking=False,\n",
    "    name='Adam')# TODO build the corresponding training operation\n",
    "opt_op = opt.minimize(loss)"
   ]
  },
  {
   "cell_type": "code",
   "execution_count": 11,
   "metadata": {
    "collapsed": true
   },
   "outputs": [],
   "source": [
    "# Define summary operations. Note, that the names may vary depending on how you defined variables!\n",
    "\n",
    "train_summaries = [\n",
    "  tf.summary.scalar('train_loss', loss),\n",
    "  tf.summary.scalar('train_accuracy', accuracy)\n",
    "]\n",
    "train_summary_op = tf.summary.merge(train_summaries)\n",
    "\n",
    "\n",
    "val_accuracy = tf.placeholder(tf.float32)\n",
    "\n",
    "val_summary_op = tf.summary.scalar('val_accuracy', val_accuracy)\n",
    "\n",
    "# Define a single summary writer, which will take care of writing\n",
    "# our summary representations to disk.\n",
    "writer = tf.summary.FileWriter('log')"
   ]
  },
  {
   "cell_type": "markdown",
   "metadata": {},
   "source": [
    "## Task: Initialize the variables"
   ]
  },
  {
   "cell_type": "code",
   "execution_count": 12,
   "metadata": {
    "collapsed": true
   },
   "outputs": [],
   "source": [
    "# TODO use the variables initializer to build the operation and run it in the current session (named sess)\n",
    "model = tf.global_variables_initializer()\n",
    "sess.run(model)"
   ]
  },
  {
   "cell_type": "markdown",
   "metadata": {},
   "source": [
    "##  Task: Train your network. Display the progress. "
   ]
  },
  {
   "cell_type": "code",
   "execution_count": 16,
   "metadata": {
    "collapsed": true
   },
   "outputs": [],
   "source": [
    "def gen_data(source):\n",
    "    indices =list(range(len(source[0])))\n",
    "    random.shuffle(indices)\n",
    "\n",
    "    while True:\n",
    "    #indices = range(len(source[0]))\n",
    "    #random.shuffle(indices)\n",
    "        for i in indices:\n",
    "        \n",
    "            image = source[0][i]\n",
    "            #label=np.zeros(NUM_CLASSES)\n",
    "            label=source[1][i]\n",
    "            yield image, label\n",
    "\n",
    "\n",
    "def gen_data_batch(source,batchSize):\n",
    "    data_gen = gen_data(source)\n",
    "    #for i in range(numberOfBatches):\n",
    "    while(True):\n",
    "        images_batch = []\n",
    "        labels_batch = []\n",
    "        for _ in range(batchSize):\n",
    "            img, label = next(data_gen)\n",
    "            images_batch.append(img)\n",
    "            #plt.figure(figsize=(1.5,1.5))\n",
    "            #plt.title(label_to_name[label])\n",
    "            #plt.imshow(img)\n",
    "            labels_batch.append(label)\n",
    "        #print(\"batch served!\")\n",
    "        yield np.array(images_batch),np.asarray(labels_batch)\n",
    "\n"
   ]
  },
  {
   "cell_type": "code",
   "execution_count": 17,
   "metadata": {},
   "outputs": [
    {
     "name": "stdout",
     "output_type": "stream",
     "text": [
      "epoch #0\n",
      "Epoch: 0_Iteration: 0 Loss: 7.87409\n",
      "Epoch: 0_Iteration: 1 Loss: 7.67343\n",
      "Epoch: 0_Iteration: 2 Loss: 7.49884\n",
      "Epoch: 0_Iteration: 3 Loss: 7.31474\n",
      "Epoch: 0_Iteration: 4 Loss: 7.14236\n"
     ]
    },
    {
     "ename": "KeyboardInterrupt",
     "evalue": "",
     "output_type": "error",
     "traceback": [
      "\u001b[1;31m---------------------------------------------------------------------------\u001b[0m",
      "\u001b[1;31mKeyboardInterrupt\u001b[0m                         Traceback (most recent call last)",
      "\u001b[1;32m<ipython-input-17-f5980a3898d7>\u001b[0m in \u001b[0;36m<module>\u001b[1;34m()\u001b[0m\n\u001b[0;32m     15\u001b[0m         \u001b[1;31m#print(iter)\u001b[0m\u001b[1;33m\u001b[0m\u001b[1;33m\u001b[0m\u001b[0m\n\u001b[0;32m     16\u001b[0m         \u001b[1;31m# TODO read the batch and execute one iteration of the graph\u001b[0m\u001b[1;33m\u001b[0m\u001b[1;33m\u001b[0m\u001b[0m\n\u001b[1;32m---> 17\u001b[1;33m         \u001b[0mXs\u001b[0m\u001b[1;33m,\u001b[0m\u001b[0mYs\u001b[0m \u001b[1;33m=\u001b[0m \u001b[0mnext\u001b[0m\u001b[1;33m(\u001b[0m\u001b[0mgen_data_batch\u001b[0m\u001b[1;33m(\u001b[0m\u001b[1;33m[\u001b[0m\u001b[0mtrain_samples\u001b[0m\u001b[1;33m,\u001b[0m\u001b[0mtrain_labels\u001b[0m\u001b[1;33m]\u001b[0m\u001b[1;33m,\u001b[0m\u001b[0mbatch_size\u001b[0m\u001b[1;33m)\u001b[0m\u001b[1;33m)\u001b[0m\u001b[1;33m\u001b[0m\u001b[0m\n\u001b[0m\u001b[0;32m     18\u001b[0m         \u001b[1;31m#print('\\r')\u001b[0m\u001b[1;33m\u001b[0m\u001b[1;33m\u001b[0m\u001b[0m\n\u001b[0;32m     19\u001b[0m     \u001b[1;31m#print(Ys)\u001b[0m\u001b[1;33m\u001b[0m\u001b[1;33m\u001b[0m\u001b[0m\n",
      "\u001b[1;32m<ipython-input-16-831e95427a1a>\u001b[0m in \u001b[0;36mgen_data_batch\u001b[1;34m(source, batchSize)\u001b[0m\n\u001b[0;32m     21\u001b[0m         \u001b[0mlabels_batch\u001b[0m \u001b[1;33m=\u001b[0m \u001b[1;33m[\u001b[0m\u001b[1;33m]\u001b[0m\u001b[1;33m\u001b[0m\u001b[0m\n\u001b[0;32m     22\u001b[0m         \u001b[1;32mfor\u001b[0m \u001b[0m_\u001b[0m \u001b[1;32min\u001b[0m \u001b[0mrange\u001b[0m\u001b[1;33m(\u001b[0m\u001b[0mbatchSize\u001b[0m\u001b[1;33m)\u001b[0m\u001b[1;33m:\u001b[0m\u001b[1;33m\u001b[0m\u001b[0m\n\u001b[1;32m---> 23\u001b[1;33m             \u001b[0mimg\u001b[0m\u001b[1;33m,\u001b[0m \u001b[0mlabel\u001b[0m \u001b[1;33m=\u001b[0m \u001b[0mnext\u001b[0m\u001b[1;33m(\u001b[0m\u001b[0mdata_gen\u001b[0m\u001b[1;33m)\u001b[0m\u001b[1;33m\u001b[0m\u001b[0m\n\u001b[0m\u001b[0;32m     24\u001b[0m             \u001b[0mimages_batch\u001b[0m\u001b[1;33m.\u001b[0m\u001b[0mappend\u001b[0m\u001b[1;33m(\u001b[0m\u001b[0mimg\u001b[0m\u001b[1;33m)\u001b[0m\u001b[1;33m\u001b[0m\u001b[0m\n\u001b[0;32m     25\u001b[0m             \u001b[1;31m#plt.figure(figsize=(1.5,1.5))\u001b[0m\u001b[1;33m\u001b[0m\u001b[1;33m\u001b[0m\u001b[0m\n",
      "\u001b[1;32m<ipython-input-16-831e95427a1a>\u001b[0m in \u001b[0;36mgen_data\u001b[1;34m(source)\u001b[0m\n\u001b[0;32m      1\u001b[0m \u001b[1;32mdef\u001b[0m \u001b[0mgen_data\u001b[0m\u001b[1;33m(\u001b[0m\u001b[0msource\u001b[0m\u001b[1;33m)\u001b[0m\u001b[1;33m:\u001b[0m\u001b[1;33m\u001b[0m\u001b[0m\n\u001b[0;32m      2\u001b[0m     \u001b[0mindices\u001b[0m \u001b[1;33m=\u001b[0m\u001b[0mlist\u001b[0m\u001b[1;33m(\u001b[0m\u001b[0mrange\u001b[0m\u001b[1;33m(\u001b[0m\u001b[0mlen\u001b[0m\u001b[1;33m(\u001b[0m\u001b[0msource\u001b[0m\u001b[1;33m[\u001b[0m\u001b[1;36m0\u001b[0m\u001b[1;33m]\u001b[0m\u001b[1;33m)\u001b[0m\u001b[1;33m)\u001b[0m\u001b[1;33m)\u001b[0m\u001b[1;33m\u001b[0m\u001b[0m\n\u001b[1;32m----> 3\u001b[1;33m     \u001b[0mrandom\u001b[0m\u001b[1;33m.\u001b[0m\u001b[0mshuffle\u001b[0m\u001b[1;33m(\u001b[0m\u001b[0mindices\u001b[0m\u001b[1;33m)\u001b[0m\u001b[1;33m\u001b[0m\u001b[0m\n\u001b[0m\u001b[0;32m      4\u001b[0m \u001b[1;33m\u001b[0m\u001b[0m\n\u001b[0;32m      5\u001b[0m     \u001b[1;32mwhile\u001b[0m \u001b[1;32mTrue\u001b[0m\u001b[1;33m:\u001b[0m\u001b[1;33m\u001b[0m\u001b[0m\n",
      "\u001b[1;32mc:\\users\\ahmad\\appdata\\local\\programs\\python\\python35\\lib\\random.py\u001b[0m in \u001b[0;36mshuffle\u001b[1;34m(self, x, random)\u001b[0m\n\u001b[0;32m    270\u001b[0m                 \u001b[1;31m# pick an element in x[:i+1] with which to exchange x[i]\u001b[0m\u001b[1;33m\u001b[0m\u001b[1;33m\u001b[0m\u001b[0m\n\u001b[0;32m    271\u001b[0m                 \u001b[0mj\u001b[0m \u001b[1;33m=\u001b[0m \u001b[0mrandbelow\u001b[0m\u001b[1;33m(\u001b[0m\u001b[0mi\u001b[0m\u001b[1;33m+\u001b[0m\u001b[1;36m1\u001b[0m\u001b[1;33m)\u001b[0m\u001b[1;33m\u001b[0m\u001b[0m\n\u001b[1;32m--> 272\u001b[1;33m                 \u001b[0mx\u001b[0m\u001b[1;33m[\u001b[0m\u001b[0mi\u001b[0m\u001b[1;33m]\u001b[0m\u001b[1;33m,\u001b[0m \u001b[0mx\u001b[0m\u001b[1;33m[\u001b[0m\u001b[0mj\u001b[0m\u001b[1;33m]\u001b[0m \u001b[1;33m=\u001b[0m \u001b[0mx\u001b[0m\u001b[1;33m[\u001b[0m\u001b[0mj\u001b[0m\u001b[1;33m]\u001b[0m\u001b[1;33m,\u001b[0m \u001b[0mx\u001b[0m\u001b[1;33m[\u001b[0m\u001b[0mi\u001b[0m\u001b[1;33m]\u001b[0m\u001b[1;33m\u001b[0m\u001b[0m\n\u001b[0m\u001b[0;32m    273\u001b[0m         \u001b[1;32melse\u001b[0m\u001b[1;33m:\u001b[0m\u001b[1;33m\u001b[0m\u001b[0m\n\u001b[0;32m    274\u001b[0m             \u001b[0m_int\u001b[0m \u001b[1;33m=\u001b[0m \u001b[0mint\u001b[0m\u001b[1;33m\u001b[0m\u001b[0m\n",
      "\u001b[1;31mKeyboardInterrupt\u001b[0m: "
     ]
    }
   ],
   "source": [
    "# indicators on how often to create a summary\n",
    "num_steps_per_train_summary = 5  \n",
    "\n",
    "# TODO run num_train_steps iterations on the training samples each of batchsize 50\n",
    "#samples_indices = list(range(train_samples.shape[0]))\n",
    "for epoch in range(num_train_epochs):\n",
    "    #print(\"epoch\")\n",
    "    print('epoch #'+str(epoch))\n",
    "    \n",
    "    \n",
    "    # TODO randomly shuffle training samples\n",
    "    #random.shuffle(samples_indices)\n",
    "    for iteration in range(steps_per_epoch):\n",
    "        #print('iter')\n",
    "        #print(iter)\n",
    "        # TODO read the batch and execute one iteration of the graph \n",
    "        Xs,Ys = next(gen_data_batch([train_samples,train_labels],batch_size))\n",
    "        #print('\\r')\n",
    "    #print(Ys)    \n",
    "        l,summary, _  =  sess.run([loss, train_summary_op, opt_op], feed_dict={inputs: Xs, labels: Ys,keep_prob:1.})\n",
    "    #print(epoch)\n",
    "    #print(summary)\n",
    "        print('\\rEpoch: '+str(epoch)+'_Iteration: '+str(iteration)+' Loss: '+str(l))\n",
    "    \n",
    "    \n",
    "        # TODO every num_steps_per_train_summary iterations: \n",
    "        #     save the current training status (loss and accuracy) to tensorboard\n",
    "    if epoch % num_steps_per_train_summary==0:\n",
    "            writer.add_summary(summary, global_step=epoch)\n",
    "            \n",
    "    \n",
    "    #writer.add_summary(summary, global_step=epoch)\n",
    "    # TODO every epoch: \n",
    "    validation_steps = int(val_samples.shape[0]/batch_size)\n",
    "    acc=0\n",
    "    for valStep in range(validation_steps):\n",
    "        Xs,Ys=next(gen_data_batch([val_samples,val_labels],batch_size))\n",
    "        res=  sess.run([ accuracy], feed_dict={inputs: Xs, labels: Ys,keep_prob:1.})\n",
    "        print(res)\n",
    "        acc+=res[0]\n",
    "        print('val accuracy so far: '+str(acc))\n",
    "        summary=sess.run([ val_summary_op], feed_dict={val_accuracy: acc})\n",
    "        writer.add_summary(summary[0], global_step=epoch)\n",
    "    #     save the current validation accuracy to tensorboard\n",
    "    # Note: we are interested in the accuracy over the *entire* validation set, not just the current batch\n",
    "\n"
   ]
  },
  {
   "cell_type": "markdown",
   "metadata": {},
   "source": [
    "## Task: Save the trained model into checkpoints"
   ]
  },
  {
   "cell_type": "code",
   "execution_count": null,
   "metadata": {
    "collapsed": true
   },
   "outputs": [],
   "source": [
    "# TODO use tf.train.Saver to save the trained model as checkpoints/model.ckpt\n",
    "saver = tf.train.Saver()\n",
    "saver.save(sess, 'checkpoints/model.ckpt')\n",
    "\n",
    "\n"
   ]
  },
  {
   "cell_type": "markdown",
   "metadata": {},
   "source": [
    "## Bonus Exercise: Use different methods to further improve your accuracy. \n",
    "### e.g. De-mean input, use data Augmentation (flip image, rotate image, add noise), add dropout ... "
   ]
  },
  {
   "cell_type": "code",
   "execution_count": null,
   "metadata": {
    "collapsed": true
   },
   "outputs": [],
   "source": [
    "# Hint: tf.nn.dropout, tf.image.flip_left_right, .... \n",
    "# Note that this should only be applied during training and not during testing!! \n",
    "# Hint: Use an extra tf.placeholder to indicate if training.\n",
    "\n",
    "\n",
    "#please check the DATA_AUGMENTATION  and the keep_prob, also in utils.py the modification to buildnetwork"
   ]
  }
 ],
 "metadata": {
  "anaconda-cloud": {},
  "kernelspec": {
   "display_name": "Python 3",
   "language": "python",
   "name": "python3"
  },
  "language_info": {
   "codemirror_mode": {
    "name": "ipython",
    "version": 3
   },
   "file_extension": ".py",
   "mimetype": "text/x-python",
   "name": "python",
   "nbconvert_exporter": "python",
   "pygments_lexer": "ipython3",
   "version": "3.5.0"
  }
 },
 "nbformat": 4,
 "nbformat_minor": 2
}
